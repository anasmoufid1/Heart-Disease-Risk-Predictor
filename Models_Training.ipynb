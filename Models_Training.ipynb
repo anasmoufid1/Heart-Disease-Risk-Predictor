{
 "cells": [
  {
   "cell_type": "markdown",
   "metadata": {},
   "source": [
    "# **III. Entrainement des Models**"
   ]
  },
  {
   "cell_type": "markdown",
   "metadata": {},
   "source": [
    "## **1. Importation des bibliothèques et du jeu de données (préparé préalablement)**"
   ]
  },
  {
   "cell_type": "markdown",
   "metadata": {},
   "source": [
    "\n",
    "Nous commençons par l'importation des bibliothèques nécessaires telles que pandas, numpy et pyspark. Ces bibliothèques sont essentielles pour le traitement des données, la manipulation des tableaux et la mise en œuvre des algorithmes d'apprentissage automatique à grande échelle. "
   ]
  },
  {
   "cell_type": "code",
   "execution_count": 4,
   "metadata": {},
   "outputs": [],
   "source": [
    "import pandas as pd\n",
    "import numpy as np\n",
    "from pyspark.sql import SparkSession\n",
    "from pyspark.ml.feature import VectorAssembler\n",
    "from pyspark.ml.classification import LogisticRegression, RandomForestClassifier, DecisionTreeClassifier\n",
    "from pyspark.ml.evaluation import BinaryClassificationEvaluator,MulticlassClassificationEvaluator\n",
    "from pyspark.ml.classification import LinearSVC\n",
    "from sklearn.metrics import classification_report\n",
    "from pyspark.ml.tuning import CrossValidator, ParamGridBuilder\n",
    "from sklearn.metrics import confusion_matrix\n",
    "import seaborn as sns\n",
    "import matplotlib.pyplot as plt\n",
    "from prettytable import PrettyTable"
   ]
  },
  {
   "cell_type": "markdown",
   "metadata": {},
   "source": [
    "En utilisant SparkSession de pyspark.sql, nous initialisons une session Spark, ce qui nous permettra de manipuler des données distribuées de manière efficace."
   ]
  },
  {
   "cell_type": "code",
   "execution_count": 5,
   "metadata": {},
   "outputs": [],
   "source": [
    "# Initialisation de la session Spark // Port : 4040\n",
    "# Une fois la seesion crée, on peut interagir avec les données stockées dans un environnement distribué.\n",
    "spark = SparkSession.builder.appName('HeartDiseasesPredicion').config(\"spark.ui.port\", \"4041\").config(\"spark.driver.maxResultSize\", \"4g\").getOrCreate()"
   ]
  },
  {
   "cell_type": "markdown",
   "metadata": {},
   "source": [
    "Nous procédons ensuite à l'importation des données à partir du fichier CSV 'clean_data.csv' contenant les données traitées précédemment à l'aide de la méthode spark.read.csv() de Spark"
   ]
  },
  {
   "cell_type": "code",
   "execution_count": 6,
   "metadata": {},
   "outputs": [],
   "source": [
    "# Importing data\n",
    "path = 'clean_data.csv'\n",
    "data = spark.read.csv(path, header=True, inferSchema=True)"
   ]
  },
  {
   "cell_type": "markdown",
   "metadata": {},
   "source": [
    "Ensuite, nous assemblons les caractéristiques pertinentes en un vecteur à l'aide de VectorAssembler de pyspark.ml.feature. Nous définissons une liste de colonnes 'feature_columns' qui contient les noms des caractéristiques que nous voulons inclure dans notre vecteur de caractéristiques."
   ]
  },
  {
   "cell_type": "code",
   "execution_count": 7,
   "metadata": {},
   "outputs": [],
   "source": [
    "# Assembler les caractéristiques en un vecteur\n",
    "feature_columns = ['age', 'education', 'sex', 'is_smoking', 'cigs_per_day', 'bp_meds', 'prevalent_stroke', 'prevalent_hyp', 'diabetes', 'total_cholesterol', 'bmi', 'heart_rate', 'glucose', 'pulse_pressure']\n",
    "assembler = VectorAssembler(inputCols=feature_columns, outputCol=\"features\")\n",
    "data = assembler.transform(data)"
   ]
  },
  {
   "cell_type": "markdown",
   "metadata": {},
   "source": [
    "Ensuite, nous divisons nos données en ensembles d'entrainement et de test à l'aide de la méthode randomSplit de Spark."
   ]
  },
  {
   "cell_type": "code",
   "execution_count": 8,
   "metadata": {},
   "outputs": [],
   "source": [
    "# Diviser les données en ensembles de formation et de test\n",
    "(trainingData, testData) = data.randomSplit([0.7, 0.3], seed=42)\n"
   ]
  },
  {
   "cell_type": "markdown",
   "metadata": {},
   "source": [
    "Ensuite, nous configurons un évaluateur pour évaluer les performances de nos modèles sur les données de test. Dans ce cas, nous utilisons BinaryClassificationEvaluator de pyspark.ml.evaluation, spécifiant la colonne contenant les étiquettes de nos données (labelCol=\"ten_year_chd\")."
   ]
  },
  {
   "cell_type": "code",
   "execution_count": 9,
   "metadata": {},
   "outputs": [],
   "source": [
    "# Évaluer les modèles sur les données de test\n",
    "evaluator = BinaryClassificationEvaluator(labelCol=\"ten_year_chd\")\n"
   ]
  },
  {
   "cell_type": "markdown",
   "metadata": {},
   "source": [
    "Ensuite, nous créons un évaluateur spécifiquement pour mesurer le rappel (recall) des modèles sur les données de test. Pour cela, nous utilisons MulticlassClassificationEvaluator de pyspark.ml.evaluation, en spécifiant la colonne contenant les étiquettes réelles (labelCol=\"ten_year_chd\"), la colonne contenant les prédictions des modèles, et le nom de la métrique que nous voulons calculer (metricName=\"weightedRecall\")."
   ]
  },
  {
   "cell_type": "code",
   "execution_count": 19,
   "metadata": {},
   "outputs": [],
   "source": [
    "# Créer un évaluateur pour le recall\n",
    "evaluator_recall = MulticlassClassificationEvaluator(labelCol=\"ten_year_chd\", predictionCol=\"prediction\", metricName=\"weightedRecall\")\n"
   ]
  },
  {
   "cell_type": "markdown",
   "metadata": {},
   "source": [
    "## **2. Logistic Regression**"
   ]
  },
  {
   "cell_type": "markdown",
   "metadata": {},
   "source": [
    "Dans cette section, nous abordons la première technique de modélisation, à savoir la régression logistique. Nous utilisons la bibliothèque pyspark.ml.classification pour mettre en œuvre ce modèle. Nous instancions un objet LogisticRegression en spécifiant les colonnes contenant les étiquettes (labelCol=\"ten_year_chd\") et les caractéristiques (featuresCol=\"features\") dans nos données."
   ]
  },
  {
   "cell_type": "code",
   "execution_count": 10,
   "metadata": {},
   "outputs": [],
   "source": [
    "# Entraîner plusieurs modèles de classification\n",
    "log_reg = LogisticRegression(labelCol=\"ten_year_chd\", featuresCol=\"features\")"
   ]
  },
  {
   "cell_type": "markdown",
   "metadata": {},
   "source": [
    "Nous définissons ici une grille de paramètres à tester pour le modèle de régression logistique. Nous utilisons ParamGridBuilder de pyspark.ml.tuning pour spécifier les différentes combinaisons de paramètres que nous voulons évaluer lors de l'entraînement du modèle."
   ]
  },
  {
   "cell_type": "code",
   "execution_count": 11,
   "metadata": {},
   "outputs": [],
   "source": [
    "# Paramètres à tester pour chaque modèle\n",
    "param_grid_log_reg = ParamGridBuilder() \\\n",
    "    .addGrid(log_reg.regParam, [0.01, 0.1, 1.0]) \\\n",
    "    .addGrid(log_reg.elasticNetParam, [0.0, 0.5, 1.0]) \\\n",
    "    .build()"
   ]
  },
  {
   "cell_type": "markdown",
   "metadata": {},
   "source": [
    "\n",
    "Nous créons ici un validateur croisé (CrossValidator) pour le modèle de régression logistique.\n",
    "Le validateur croisé exécutera la validation croisée sur différentes combinaisons de paramètres, sélectionnant finalement la combinaison optimale qui maximise les performances du modèle selon les critères définis par l'évaluateur."
   ]
  },
  {
   "cell_type": "code",
   "execution_count": 12,
   "metadata": {},
   "outputs": [],
   "source": [
    "# Instancier les validateurs pour chaque modèle\n",
    "cv_log_reg = CrossValidator(estimator=log_reg,\n",
    "                            estimatorParamMaps=param_grid_log_reg,\n",
    "                            evaluator=evaluator,\n",
    "                            numFolds=5)"
   ]
  },
  {
   "cell_type": "markdown",
   "metadata": {},
   "source": [
    "Nous procédons ici à l'entraînement du validateur croisé pour le modèle de régression logistique. "
   ]
  },
  {
   "cell_type": "code",
   "execution_count": 13,
   "metadata": {},
   "outputs": [],
   "source": [
    "# Entraîner les validateurs\n",
    "cv_log_reg_model = cv_log_reg.fit(trainingData)"
   ]
  },
  {
   "cell_type": "markdown",
   "metadata": {},
   "source": [
    "Nous sélectionnons ici le meilleur modèle de régression logistique parmi ceux entraînés par le validateur croisé."
   ]
  },
  {
   "cell_type": "code",
   "execution_count": 14,
   "metadata": {},
   "outputs": [],
   "source": [
    "# Sélectionner les meilleurs modèles\n",
    "best_log_reg_model = cv_log_reg_model.bestModel"
   ]
  },
  {
   "cell_type": "markdown",
   "metadata": {},
   "source": [
    "Nous évaluons ici les performances du meilleur modèle de régression logistique sur l'ensemble de test. En utilisant l'évaluateur que nous avons précédemment défini"
   ]
  },
  {
   "cell_type": "code",
   "execution_count": 15,
   "metadata": {},
   "outputs": [
    {
     "name": "stdout",
     "output_type": "stream",
     "text": [
      "Logistic Regression Test Area Under ROC: 0.733519537361439\n"
     ]
    }
   ],
   "source": [
    "# Évaluer les meilleurs modèles\n",
    "log_reg_test_results = evaluator.evaluate(best_log_reg_model.transform(testData))\n",
    "print(\"Logistic Regression Test Area Under ROC:\", log_reg_test_results)"
   ]
  },
  {
   "cell_type": "markdown",
   "metadata": {},
   "source": [
    " *le résultat obtenu pour l'AUC de la régression logistique sur l'ensemble de test est d'environ 0.734, ce qui indique que le modèle a une capacité modérée à bien discriminer entre les individus à risque de développer une maladie cardiaque et ceux qui ne le sont pas.*"
   ]
  },
  {
   "cell_type": "code",
   "execution_count": 16,
   "metadata": {},
   "outputs": [
    {
     "name": "stdout",
     "output_type": "stream",
     "text": [
      "Meilleurs paramètres pour Logistic Regression:\n",
      "aggregationDepth : 2\n",
      "elasticNetParam : 0.0\n",
      "family : auto\n",
      "featuresCol : features\n",
      "fitIntercept : True\n",
      "labelCol : ten_year_chd\n",
      "maxBlockSizeInMB : 0.0\n",
      "maxIter : 100\n",
      "predictionCol : prediction\n",
      "probabilityCol : probability\n",
      "rawPredictionCol : rawPrediction\n",
      "regParam : 0.01\n",
      "standardization : True\n",
      "threshold : 0.5\n",
      "tol : 1e-06\n"
     ]
    }
   ],
   "source": [
    "# Afficher les meilleurs paramètres pour Logistic Regression\n",
    "best_log_reg_params = cv_log_reg_model.bestModel.extractParamMap()\n",
    "print(\"Meilleurs paramètres pour Logistic Regression:\")\n",
    "for param in best_log_reg_params:\n",
    "    print(param.name, \":\", best_log_reg_params[param])"
   ]
  },
  {
   "cell_type": "markdown",
   "metadata": {},
   "source": [
    "Nous générons ici un rapport de classification pour évaluer plus en détail les performances du modèle de régression logistique sur l'ensemble de test."
   ]
  },
  {
   "cell_type": "code",
   "execution_count": 17,
   "metadata": {},
   "outputs": [
    {
     "name": "stdout",
     "output_type": "stream",
     "text": [
      "Logistic Regression Classification Report:\n",
      "              precision    recall  f1-score   support\n",
      "\n",
      "           0       0.68      0.63      0.66       831\n",
      "           1       0.65      0.70      0.67       813\n",
      "\n",
      "    accuracy                           0.67      1644\n",
      "   macro avg       0.67      0.67      0.67      1644\n",
      "weighted avg       0.67      0.67      0.67      1644\n",
      "\n"
     ]
    }
   ],
   "source": [
    "log_reg_predictions_pd = best_log_reg_model.transform(testData).select(\"prediction\", \"ten_year_chd\").toPandas()\n",
    "log_reg_metrics = classification_report(log_reg_predictions_pd[\"ten_year_chd\"], log_reg_predictions_pd[\"prediction\"], zero_division=0)\n",
    "# Afficher les rapports de classification\n",
    "print(\"Logistic Regression Classification Report:\")\n",
    "print(log_reg_metrics)"
   ]
  },
  {
   "cell_type": "markdown",
   "metadata": {},
   "source": [
    "*Pour la classe 0 (pas de développement de maladie cardiaque), le modèle a une précision de 0.68, ce qui signifie que parmi toutes les prédictions de cette classe, 68% sont correctes. Le rappel pour cette classe est de 0.63, indiquant que le modèle identifie correctement 63% de tous les exemples réels de cette classe.\n",
    "Pour la classe 1 (développement de maladie cardiaque), le modèle a une précision de 0.65, ce qui signifie que parmi toutes les prédictions de cette classe, 65% sont correctes. Le rappel pour cette classe est de 0.70, indiquant que le modèle identifie correctement 70% de tous les exemples réels de cette classe.*"
   ]
  },
  {
   "cell_type": "markdown",
   "metadata": {},
   "source": [
    "Nous évaluons ici le rappel (recall) du meilleur modèle de régression logistique sur les ensembles d'entraînement et de test. Pour cela, nous utilisons l'évaluateur spécifique au rappel (evaluator_recall) que nous avons précédemment défini."
   ]
  },
  {
   "cell_type": "code",
   "execution_count": 20,
   "metadata": {},
   "outputs": [
    {
     "name": "stdout",
     "output_type": "stream",
     "text": [
      "Logistic Regression Test Recall: 0.6654501216545012\n",
      "Logistic Regression Train Recall: 0.670393777345649\n"
     ]
    }
   ],
   "source": [
    "# Calculer le recall pour l'ensemble de test\n",
    "log_reg_test_recall = evaluator_recall.evaluate(best_log_reg_model.transform(testData))\n",
    "\n",
    "# Calculer le recall pour l'ensemble d'entraînement\n",
    "log_reg_train_recall = evaluator_recall.evaluate(best_log_reg_model.transform(trainingData))\n",
    "\n",
    "print(\"Logistic Regression Test Recall:\", log_reg_test_recall)\n",
    "print(\"Logistic Regression Train Recall:\", log_reg_train_recall)"
   ]
  },
  {
   "cell_type": "code",
   "execution_count": 21,
   "metadata": {},
   "outputs": [
    {
     "data": {
      "image/png": "[encoded data removed]",
      "text/plain": [
       "<Figure size 800x600 with 2 Axes>"
      ]
     },
     "metadata": {},
     "output_type": "display_data"
    }
   ],
   "source": [
    "# Définition d'une fonction pour afficher la matrice de confusion\n",
    "def plot_confusion_matrix(cm, title):\n",
    "    plt.figure(figsize=(8, 6))\n",
    "    sns.heatmap(cm, annot=True, fmt='d', cmap='Blues', xticklabels=['Non CHD', 'CHD'], yticklabels=['Non CHD', 'CHD'])\n",
    "    plt.xlabel('Predicted')\n",
    "    plt.ylabel('True')\n",
    "    plt.title(title)\n",
    "    plt.show()\n",
    "# Convertir les prédictions de Spark DataFrame en Pandas DataFrame\n",
    "log_reg_cm = best_log_reg_model.transform(testData).select(\"prediction\", \"ten_year_chd\").toPandas()\n",
    "# Calculer la matrice de confusion pour chaque modèle\n",
    "log_reg_cm = confusion_matrix(log_reg_cm[\"ten_year_chd\"], log_reg_cm[\"prediction\"])\n",
    "# Afficher les matrices de confusion\n",
    "plot_confusion_matrix(log_reg_cm, 'Logistic Regression Confusion Matrix')"
   ]
  },
  {
   "cell_type": "markdown",
   "metadata": {},
   "source": [
    "La matrice de confusion que nous avons affichée met en évidence la performance du modèle de régression logistique dans la prédiction des cas positifs et négatifs de développement de maladie cardiaque sur l'ensemble de test. Cependant, il est important de noter que le taux de faux négatifs est élevé, ce qui signifie que le modèle a du mal à détecter correctement les cas réels de développement de maladie cardiaque parmi ceux qui sont prédits comme non affectés.\n",
    "Cette situation est particulièrement préoccupante dans le contexte médical, car un taux élevé de faux négatifs peut signifier que des individus à risque de développer une maladie cardiaque pourraient ne pas être identifiés"
   ]
  },
  {
   "cell_type": "markdown",
   "metadata": {},
   "source": [
    "## **3. Decision Tree** "
   ]
  },
  {
   "cell_type": "markdown",
   "metadata": {},
   "source": [
    "Pour l'entraînement du modèle d'arbre de décision, nous avons suivi un processus similaire à celui de la régression logistique."
   ]
  },
  {
   "cell_type": "code",
   "execution_count": 22,
   "metadata": {},
   "outputs": [],
   "source": [
    "dt = DecisionTreeClassifier(labelCol=\"ten_year_chd\", featuresCol=\"features\")"
   ]
  },
  {
   "cell_type": "code",
   "execution_count": 23,
   "metadata": {},
   "outputs": [],
   "source": [
    "param_grid_dt = ParamGridBuilder() \\\n",
    "    .addGrid(dt.maxDepth, [5, 10, 15]) \\\n",
    "    .addGrid(dt.maxBins, [16, 32, 64]) \\\n",
    "    .build()"
   ]
  },
  {
   "cell_type": "code",
   "execution_count": 24,
   "metadata": {},
   "outputs": [],
   "source": [
    "cv_dt = CrossValidator(estimator=dt,\n",
    "                       estimatorParamMaps=param_grid_dt,\n",
    "                       evaluator=evaluator,\n",
    "                       numFolds=5)"
   ]
  },
  {
   "cell_type": "code",
   "execution_count": 25,
   "metadata": {},
   "outputs": [],
   "source": [
    "cv_dt_model = cv_dt.fit(trainingData)"
   ]
  },
  {
   "cell_type": "code",
   "execution_count": 26,
   "metadata": {},
   "outputs": [],
   "source": [
    "best_dt_model = cv_dt_model.bestModel"
   ]
  },
  {
   "cell_type": "code",
   "execution_count": 27,
   "metadata": {},
   "outputs": [
    {
     "name": "stdout",
     "output_type": "stream",
     "text": [
      "Decision Tree Test Area Under ROC: 0.8124963921119357\n"
     ]
    }
   ],
   "source": [
    "dt_test_results = evaluator.evaluate(best_dt_model.transform(testData))\n",
    "print(\"Decision Tree Test Area Under ROC:\", dt_test_results)"
   ]
  },
  {
   "cell_type": "markdown",
   "metadata": {},
   "source": [
    "Les performances du meilleur modèle d'arbre de décision ont été évaluées sur l'ensemble de test, et l'aire sous la courbe ROC (ROC AUC) obtenue est d'environ 0.812."
   ]
  },
  {
   "cell_type": "code",
   "execution_count": 28,
   "metadata": {},
   "outputs": [
    {
     "name": "stdout",
     "output_type": "stream",
     "text": [
      "Meilleurs paramètres pour Decision Tree:\n",
      "cacheNodeIds : False\n",
      "checkpointInterval : 10\n",
      "featuresCol : features\n",
      "impurity : gini\n",
      "labelCol : ten_year_chd\n",
      "leafCol : \n",
      "maxBins : 16\n",
      "maxDepth : 15\n",
      "maxMemoryInMB : 256\n",
      "minInfoGain : 0.0\n",
      "minInstancesPerNode : 1\n",
      "minWeightFractionPerNode : 0.0\n",
      "predictionCol : prediction\n",
      "probabilityCol : probability\n",
      "rawPredictionCol : rawPrediction\n",
      "seed : -5274216314403460591\n"
     ]
    }
   ],
   "source": [
    "# Afficher les meilleurs paramètres pour Decision Tree\n",
    "best_dt_params = cv_dt_model.bestModel.extractParamMap()\n",
    "print(\"Meilleurs paramètres pour Decision Tree:\")\n",
    "for param in best_dt_params:\n",
    "    print(param.name, \":\", best_dt_params[param])"
   ]
  },
  {
   "cell_type": "code",
   "execution_count": 29,
   "metadata": {},
   "outputs": [
    {
     "name": "stdout",
     "output_type": "stream",
     "text": [
      "Decision Tree Classification Report:\n",
      "              precision    recall  f1-score   support\n",
      "\n",
      "           0       0.81      0.72      0.76       831\n",
      "           1       0.74      0.83      0.78       813\n",
      "\n",
      "    accuracy                           0.77      1644\n",
      "   macro avg       0.77      0.77      0.77      1644\n",
      "weighted avg       0.77      0.77      0.77      1644\n",
      "\n"
     ]
    }
   ],
   "source": [
    "dt_predictions_pd = best_dt_model.transform(testData).select(\"prediction\", \"ten_year_chd\").toPandas()\n",
    "dt_metrics = classification_report(dt_predictions_pd[\"ten_year_chd\"], dt_predictions_pd[\"prediction\"], zero_division=0)\n",
    "print(\"Decision Tree Classification Report:\")\n",
    "print(dt_metrics)"
   ]
  },
  {
   "cell_type": "markdown",
   "metadata": {},
   "source": [
    "Globalement, le modèle d'arbre de décision semble plus performant par rapport au model de la regression logistic, avec des scores de précision, de rappel et de F1-score assez équilibrés pour les deux classes"
   ]
  },
  {
   "cell_type": "code",
   "execution_count": 30,
   "metadata": {},
   "outputs": [
    {
     "name": "stdout",
     "output_type": "stream",
     "text": [
      "Logistic Regression Test Recall: 0.7706812652068127\n",
      "Logistic Regression Train Recall: 0.9795819154107924\n"
     ]
    }
   ],
   "source": [
    "# Calculer le recall pour l'ensemble de test\n",
    "dt_test_recall = evaluator_recall.evaluate(best_dt_model.transform(testData))\n",
    "\n",
    "# Calculer le recall pour l'ensemble d'entraînement\n",
    "dt_train_recall = evaluator_recall.evaluate(best_dt_model.transform(trainingData))\n",
    "\n",
    "print(\"Logistic Regression Test Recall:\", dt_test_recall)\n",
    "print(\"Logistic Regression Train Recall:\", dt_train_recall)"
   ]
  },
  {
   "cell_type": "code",
   "execution_count": 31,
   "metadata": {},
   "outputs": [
    {
     "data": {
      "image/png": "[encoded data removed]",
      "text/plain": [
       "<Figure size 800x600 with 2 Axes>"
      ]
     },
     "metadata": {},
     "output_type": "display_data"
    }
   ],
   "source": [
    "dt_cm = best_dt_model.transform(testData).select(\"prediction\", \"ten_year_chd\").toPandas()\n",
    "dt_cm = confusion_matrix(dt_cm[\"ten_year_chd\"], dt_cm[\"prediction\"])\n",
    "plot_confusion_matrix(dt_cm, 'Decision Tree Confusion Matrix')"
   ]
  },
  {
   "cell_type": "markdown",
   "metadata": {},
   "source": [
    "*avec l'arbre de décision, nous avons réussi à réduire le nombre de faux négatifs par rapport à la régression logistique. Cela indique que le modèle d'arbre de décision a une capacité modérément élevée à discriminer entre les individus à risque de développer une maladie cardiaque et ceux qui ne le sont pas, avec une performance supérieure à celle obtenue avec le modèle de régression logistique précédent. Cette amélioration pourrait indiquer que la structure d'arbre de décision est mieux adaptée à la nature des données ou qu'elle capture mieux les relations complexes entre les caractéristiques et la variable cible.*"
   ]
  },
  {
   "cell_type": "markdown",
   "metadata": {},
   "source": [
    "## **4. Random Forest**"
   ]
  },
  {
   "cell_type": "markdown",
   "metadata": {},
   "source": [
    "\n",
    "Dans ce passage vers l'utilisation du modèle de forêt aléatoire, nous tirons parti de l'observation que la structure du modèle d'arbre de décision s'est avérée être la mieux adaptée à nos données et capable de capturer les relations complexes entre les différentes caractéristiques. Sachant que la forêt aléatoire est construite à partir de plusieurs arbres de décision, il est logique de s'attendre à des performances encore meilleures.\n",
    "\n",
    "En combinant les prédictions de multiples arbres de décision, la forêt aléatoire peut atténuer les biais individuels de chaque arbre et réduire le risque de sur-apprentissage aux données d'entraînement. En conséquence, nous anticipons des scores de performance plus élevés, reflétant une meilleure capacité à généraliser les relations entre les caractéristiques et la variable cible sur de nouvelles données."
   ]
  },
  {
   "cell_type": "code",
   "execution_count": 32,
   "metadata": {},
   "outputs": [],
   "source": [
    "rf = RandomForestClassifier(labelCol=\"ten_year_chd\", featuresCol=\"features\")"
   ]
  },
  {
   "cell_type": "code",
   "execution_count": 33,
   "metadata": {},
   "outputs": [],
   "source": [
    "param_grid_rf = ParamGridBuilder() \\\n",
    "    .addGrid(rf.maxDepth, [5, 10, 15]) \\\n",
    "    .addGrid(rf.numTrees, [20, 50, 100]) \\\n",
    "    .build()"
   ]
  },
  {
   "cell_type": "code",
   "execution_count": 34,
   "metadata": {},
   "outputs": [],
   "source": [
    "cv_rf = CrossValidator(estimator=rf,\n",
    "                       estimatorParamMaps=param_grid_rf,\n",
    "                       evaluator=evaluator,\n",
    "                       numFolds=5)"
   ]
  },
  {
   "cell_type": "code",
   "execution_count": 35,
   "metadata": {},
   "outputs": [],
   "source": [
    "cv_rf_model = cv_rf.fit(trainingData)"
   ]
  },
  {
   "cell_type": "code",
   "execution_count": 36,
   "metadata": {},
   "outputs": [],
   "source": [
    "best_rf_model = cv_rf_model.bestModel"
   ]
  },
  {
   "cell_type": "code",
   "execution_count": 37,
   "metadata": {},
   "outputs": [
    {
     "name": "stdout",
     "output_type": "stream",
     "text": [
      "Random Forest Test Area Under ROC: 0.9310082992526778\n"
     ]
    }
   ],
   "source": [
    "rf_test_results = evaluator.evaluate(best_rf_model.transform(testData))\n",
    "print(\"Random Forest Test Area Under ROC:\", rf_test_results)"
   ]
  },
  {
   "cell_type": "markdown",
   "metadata": {},
   "source": [
    "Le score d'aire sous la courbe ROC (ROC AUC) obtenu pour le modèle de forêt aléatoire est remarquablement élevé, atteignant environ 0.934. Cela indique une excellente capacité du modèle à discriminer entre les individus à risque de développer une maladie cardiaque et ceux qui ne le sont pas."
   ]
  },
  {
   "cell_type": "code",
   "execution_count": 38,
   "metadata": {},
   "outputs": [
    {
     "name": "stdout",
     "output_type": "stream",
     "text": [
      "Meilleurs paramètres pour Random Forest:\n",
      "bootstrap : True\n",
      "cacheNodeIds : False\n",
      "checkpointInterval : 10\n",
      "featureSubsetStrategy : auto\n",
      "featuresCol : features\n",
      "impurity : gini\n",
      "labelCol : ten_year_chd\n",
      "leafCol : \n",
      "maxBins : 32\n",
      "maxDepth : 15\n",
      "maxMemoryInMB : 256\n",
      "minInfoGain : 0.0\n",
      "minInstancesPerNode : 1\n",
      "minWeightFractionPerNode : 0.0\n",
      "numTrees : 100\n",
      "predictionCol : prediction\n",
      "probabilityCol : probability\n",
      "rawPredictionCol : rawPrediction\n",
      "seed : -7033929482271434104\n",
      "subsamplingRate : 1.0\n"
     ]
    }
   ],
   "source": [
    "# Afficher les meilleurs paramètres pour Random Forest\n",
    "best_rf_params = cv_rf_model.bestModel.extractParamMap()\n",
    "print(\"Meilleurs paramètres pour Random Forest:\")\n",
    "for param in best_rf_params:\n",
    "    print(param.name, \":\", best_rf_params[param])"
   ]
  },
  {
   "cell_type": "code",
   "execution_count": 39,
   "metadata": {},
   "outputs": [
    {
     "name": "stdout",
     "output_type": "stream",
     "text": [
      "Random Forest Classification Report:\n",
      "              precision    recall  f1-score   support\n",
      "\n",
      "           0       0.88      0.81      0.85       831\n",
      "           1       0.82      0.89      0.85       813\n",
      "\n",
      "    accuracy                           0.85      1644\n",
      "   macro avg       0.85      0.85      0.85      1644\n",
      "weighted avg       0.85      0.85      0.85      1644\n",
      "\n"
     ]
    }
   ],
   "source": [
    "rf_predictions_pd = best_rf_model.transform(testData).select(\"prediction\", \"ten_year_chd\").toPandas()\n",
    "rf_metrics = classification_report(rf_predictions_pd[\"ten_year_chd\"], rf_predictions_pd[\"prediction\"], zero_division=0)\n",
    "print(\"Random Forest Classification Report:\")\n",
    "print(rf_metrics)"
   ]
  },
  {
   "cell_type": "code",
   "execution_count": 40,
   "metadata": {},
   "outputs": [
    {
     "name": "stdout",
     "output_type": "stream",
     "text": [
      "Logistic Regression Test Recall: 0.8497566909975669\n",
      "Logistic Regression Train Recall: 0.9934370442391833\n"
     ]
    }
   ],
   "source": [
    "# Calculer le recall pour l'ensemble de test\n",
    "rf_test_recall = evaluator_recall.evaluate(best_rf_model.transform(testData))\n",
    "\n",
    "# Calculer le recall pour l'ensemble d'entraînement\n",
    "rf_train_recall = evaluator_recall.evaluate(best_rf_model.transform(trainingData))\n",
    "\n",
    "print(\"Logistic Regression Test Recall:\",rf_test_recall)\n",
    "print(\"Logistic Regression Train Recall:\", rf_train_recall)"
   ]
  },
  {
   "cell_type": "code",
   "execution_count": 41,
   "metadata": {},
   "outputs": [
    {
     "data": {
      "image/png": "[encoded data removed]",
      "text/plain": [
       "<Figure size 800x600 with 2 Axes>"
      ]
     },
     "metadata": {},
     "output_type": "display_data"
    }
   ],
   "source": [
    "rf_cm = best_rf_model.transform(testData).select(\"prediction\", \"ten_year_chd\").toPandas()\n",
    "rf_cm = confusion_matrix(rf_cm[\"ten_year_chd\"], rf_cm[\"prediction\"])\n",
    "plot_confusion_matrix(rf_cm, 'Random Forest Confusion Matrix')"
   ]
  },
  {
   "cell_type": "markdown",
   "metadata": {},
   "source": [
    "En examinant la matrice de confusion, nous observons une nette amélioration par rapport aux modèles précédents, en particulier en ce qui concerne le taux de faux négatifs (FN). Cela confirme notre hypothèse initiale selon laquelle la forêt aléatoire a la capacité de mieux séparer les deux classes par rapport aux modèles individuels tels que la régression logistique et l'arbre de décision."
   ]
  },
  {
   "cell_type": "markdown",
   "metadata": {},
   "source": [
    "## **5. Support Vector Machine**"
   ]
  },
  {
   "cell_type": "markdown",
   "metadata": {},
   "source": [
    "Dans notre démarche pour choisir le modèle le plus adapté, nous avons décidé de tester le modèle de Support Vector Machine (SVM) en raison de sa structure différente par rapport aux arbres de décision."
   ]
  },
  {
   "cell_type": "code",
   "execution_count": 42,
   "metadata": {},
   "outputs": [],
   "source": [
    "svm = LinearSVC(labelCol=\"ten_year_chd\", featuresCol=\"features\")"
   ]
  },
  {
   "cell_type": "code",
   "execution_count": 43,
   "metadata": {},
   "outputs": [],
   "source": [
    "# Construire une grille de recherche de paramètres pour chaque modèle\n",
    "paramGridSVM = ParamGridBuilder() \\\n",
    "    .addGrid(svm.maxIter, [10, 20, 30]) \\\n",
    "    .addGrid(svm.regParam, [0.1, 0.01]) \\\n",
    "    .build()"
   ]
  },
  {
   "cell_type": "code",
   "execution_count": 44,
   "metadata": {},
   "outputs": [],
   "source": [
    "# Initialiser les validateurs pour SVM\n",
    "cvSVM = CrossValidator(estimator=svm,\n",
    "                       estimatorParamMaps=paramGridSVM,\n",
    "                       evaluator=evaluator,\n",
    "                       numFolds=5)"
   ]
  },
  {
   "cell_type": "code",
   "execution_count": 45,
   "metadata": {},
   "outputs": [],
   "source": [
    "# Entraîner les validateurs\n",
    "cvSVM_model = cvSVM.fit(trainingData)\n"
   ]
  },
  {
   "cell_type": "code",
   "execution_count": 46,
   "metadata": {},
   "outputs": [],
   "source": [
    "# Sélectionner les meilleurs modèles\n",
    "best_svm_model = cvSVM_model.bestModel"
   ]
  },
  {
   "cell_type": "code",
   "execution_count": 47,
   "metadata": {},
   "outputs": [
    {
     "name": "stdout",
     "output_type": "stream",
     "text": [
      "Support Vector Machine Test Area Under ROC: 0.7322776837876702\n"
     ]
    }
   ],
   "source": [
    "svm_test_results = evaluator.evaluate(best_svm_model.transform(testData))\n",
    "print(\"Support Vector Machine Test Area Under ROC:\", svm_test_results)"
   ]
  },
  {
   "cell_type": "markdown",
   "metadata": {},
   "source": [
    "Le score d'aire sous la courbe ROC (ROC AUC) obtenu pour le modèle de Support Vector Machine (SVM) est d'environ 0.732"
   ]
  },
  {
   "cell_type": "code",
   "execution_count": 48,
   "metadata": {},
   "outputs": [
    {
     "name": "stdout",
     "output_type": "stream",
     "text": [
      "Meilleurs paramètres pour SVM:\n",
      "MaxIter: 30\n",
      "RegParam: 0.01\n"
     ]
    }
   ],
   "source": [
    "# Afficher les meilleurs paramètres pour SVM.\n",
    "print(\"Meilleurs paramètres pour SVM:\")\n",
    "print(\"MaxIter:\", best_svm_model.getMaxIter())\n",
    "print(\"RegParam:\", best_svm_model.getRegParam())"
   ]
  },
  {
   "cell_type": "code",
   "execution_count": 49,
   "metadata": {},
   "outputs": [
    {
     "name": "stdout",
     "output_type": "stream",
     "text": [
      "support vector machine Classification Report:\n",
      "              precision    recall  f1-score   support\n",
      "\n",
      "           0       0.69      0.61      0.65       831\n",
      "           1       0.64      0.72      0.68       813\n",
      "\n",
      "    accuracy                           0.67      1644\n",
      "   macro avg       0.67      0.67      0.66      1644\n",
      "weighted avg       0.67      0.67      0.66      1644\n",
      "\n"
     ]
    }
   ],
   "source": [
    "# Convertir les prédictions de Spark DataFrame en Pandas DataFrame\n",
    "svm_predictions_pd = best_svm_model.transform(testData).select(\"prediction\", \"ten_year_chd\").toPandas()\n",
    "# Utiliser classification_report de scikit-learn sur les données Pandas avec zero_division=0\n",
    "svm_metrics = classification_report(svm_predictions_pd[\"ten_year_chd\"], svm_predictions_pd[\"prediction\"], zero_division=0)\n",
    "print(\"support vector machine Classification Report:\")\n",
    "print(svm_metrics)"
   ]
  },
  {
   "cell_type": "code",
   "execution_count": 50,
   "metadata": {},
   "outputs": [
    {
     "name": "stdout",
     "output_type": "stream",
     "text": [
      "Logistic Regression Test Recall: 0.6654501216545012\n",
      "Logistic Regression Train Recall: 0.6745260087506076\n"
     ]
    }
   ],
   "source": [
    "# Calculer le recall pour l'ensemble de test\n",
    "svm_test_recall = evaluator_recall.evaluate(best_svm_model.transform(testData))\n",
    "\n",
    "# Calculer le recall pour l'ensemble d'entraînement\n",
    "svm_train_recall = evaluator_recall.evaluate(best_svm_model.transform(trainingData))\n",
    "\n",
    "print(\"Logistic Regression Test Recall:\", svm_test_recall)\n",
    "print(\"Logistic Regression Train Recall:\", svm_train_recall)"
   ]
  },
  {
   "cell_type": "code",
   "execution_count": 51,
   "metadata": {},
   "outputs": [
    {
     "data": {
      "image/png": "[encoded data removed]",
      "text/plain": [
       "<Figure size 800x600 with 2 Axes>"
      ]
     },
     "metadata": {},
     "output_type": "display_data"
    }
   ],
   "source": [
    "svm_cm = best_svm_model.transform(testData).select(\"prediction\", \"ten_year_chd\").toPandas()\n",
    "svm_cm = confusion_matrix(svm_cm[\"ten_year_chd\"], svm_cm[\"prediction\"])\n",
    "plot_confusion_matrix(svm_cm, 'support Vector Machine Matrix')"
   ]
  },
  {
   "cell_type": "markdown",
   "metadata": {},
   "source": [
    "Nous avons obtenu un taux de faux négatifs élevé par rapport au modèle de forets aléatoires, ce qui souligne une limitation significative du modèle de Support Vector Machine (SVM) dans la détection des cas réels de développement de maladie cardiaque parmi ceux qui sont prédits comme n'en ayant pas."
   ]
  },
  {
   "cell_type": "markdown",
   "metadata": {},
   "source": [
    "## **6. Resultats**"
   ]
  },
  {
   "cell_type": "code",
   "execution_count": 119,
   "metadata": {},
   "outputs": [
    {
     "name": "stdout",
     "output_type": "stream",
     "text": [
      "+---------+-------------------------+-------------------+-------------------+\n",
      "| Sl. No. |   Classification Model  |  Train Recall (%) |  Test Recall (%)  |\n",
      "+---------+-------------------------+-------------------+-------------------+\n",
      "|    1    |   Logistic Regression   |  67.0393777345649 | 66.54501216545012 |\n",
      "|    2    |      Decision Tree      | 97.95819154107924 | 77.06812652068126 |\n",
      "|    3    | Support Vector Machines | 67.45260087506077 | 66.54501216545012 |\n",
      "|    4    |      Random Forests     | 99.39231891103549 | 84.36739659367396 |\n",
      "+---------+-------------------------+-------------------+-------------------+\n"
     ]
    }
   ],
   "source": [
    "# Summarizing the results obtained\n",
    "test = PrettyTable(['Sl. No.','Classification Model', 'Train Recall (%)','Test Recall (%)'])\n",
    "test.add_row(['1','Logistic Regression',log_reg_train_recall*100,log_reg_test_recall*100])\n",
    "test.add_row(['2','Decision Tree',dt_train_recall*100,dt_test_recall*100])\n",
    "test.add_row(['3','Support Vector Machines',svm_train_recall*100,svm_test_recall*100])\n",
    "test.add_row(['4','Random Forests',rf_train_recall*100,rf_test_recall*100])\n",
    "print(test)"
   ]
  },
  {
   "cell_type": "code",
   "execution_count": 67,
   "metadata": {},
   "outputs": [
    {
     "data": {
      "image/png": "[encoded data removed]",
      "text/plain": [
       "<Figure size 1000x500 with 1 Axes>"
      ]
     },
     "metadata": {},
     "output_type": "display_data"
    }
   ],
   "source": [
    "# Plotting Recall scores\n",
    "\n",
    "ML_models = ['Logistic Regression','Decision Tree','Support Vector Machines','Random Forests']\n",
    "train_recalls = [log_reg_train_recall,dt_train_recall,svm_train_recall,rf_train_recall]\n",
    "test_recalls = [log_reg_test_recall,dt_test_recall,svm_test_recall,rf_test_recall]\n",
    "  \n",
    "X_axis = np.arange(len(ML_models))\n",
    "\n",
    "plt.figure(figsize=(10,5))\n",
    "plt.barh(X_axis - 0.2, train_recalls, 0.4, label = 'Train Recall')\n",
    "plt.barh(X_axis + 0.2, test_recalls, 0.4, label = 'Test Recall')\n",
    "  \n",
    "plt.yticks(X_axis,ML_models)\n",
    "plt.xlabel(\"Recall score\")\n",
    "plt.title(\"Recall score for each model\")\n",
    "plt.legend(bbox_to_anchor=(1.05, 1), loc='upper left',title='Legend')\n",
    "plt.show()"
   ]
  },
  {
   "cell_type": "markdown",
   "metadata": {},
   "source": [
    "En conclusion, notre étude comparative des différents modèles pour la prédiction des maladies cardiaques a révélé des performances variables. Tout d'abord, nous avons constaté que les modèles d'arbre de décision et de forêt aléatoire ont montré des performances globalement meilleures que la régression logistique et le modèle de Support Vector Machine (SVM). En particulier, la forêt aléatoire a présenté les performances les plus élevées, avec une ROC AUC d'environ 0.934, ce qui indique une capacité exceptionnelle à discriminer entre les individus à risque de développer une maladie cardiaque et ceux qui ne le sont pas, tout en réduisant le taux de faux négatifs."
   ]
  },
  {
   "cell_type": "code",
   "execution_count": 70,
   "metadata": {},
   "outputs": [
    {
     "data": {
      "image/png": "[encoded data removed]",
      "text/plain": [
       "<Figure size 1000x500 with 1 Axes>"
      ]
     },
     "metadata": {},
     "output_type": "display_data"
    },
    {
     "data": {
      "image/png": "[encoded data removed]",
      "text/plain": [
       "<Figure size 1000x500 with 1 Axes>"
      ]
     },
     "metadata": {},
     "output_type": "display_data"
    }
   ],
   "source": [
    "import matplotlib.pyplot as plt\n",
    "\n",
    "# Random Forest\n",
    "rf_feature_importance = best_rf_model.featureImportances\n",
    "plt.figure(figsize=(10, 5))\n",
    "plt.barh(feature_columns, rf_feature_importance.toArray())\n",
    "plt.xlabel('Importance relative')\n",
    "plt.ylabel('Caractéristiques')\n",
    "plt.title('Importance relative des caractéristiques pour Random Forest')\n",
    "plt.show()\n",
    "\n",
    "# Decision Tree\n",
    "dt_feature_importance = best_dt_model.featureImportances\n",
    "plt.figure(figsize=(10, 5))\n",
    "plt.barh(feature_columns, dt_feature_importance.toArray())\n",
    "plt.xlabel('Importance relative')\n",
    "plt.ylabel('Caractéristiques')\n",
    "plt.title('Importance relative des caractéristiques pour Decision Tree')\n",
    "plt.show()"
   ]
  },
  {
   "cell_type": "markdown",
   "metadata": {},
   "source": [
    "En analysant l'importance des caractéristiques dans les deux meilleurs modèles, nous constatons que l'âge est identifié comme la caractéristique la plus importante. Cette observation suggère que l'âge peut jouer un rôle significatif dans le risque de développer des maladies coronariennes."
   ]
  },
  {
   "cell_type": "markdown",
   "metadata": {},
   "source": [
    "## **7. Meuilleur modèle (Random Forest)**"
   ]
  },
  {
   "cell_type": "code",
   "execution_count": 54,
   "metadata": {},
   "outputs": [],
   "source": [
    "# Convertir les prédictions Spark DataFrame en Pandas DataFrame\n",
    "rf_predictions_pd = best_rf_model.transform(testData).select(\"age\", \"education\", \"sex\", \"is_smoking\", \"cigs_per_day\", \"bp_meds\", \"prevalent_stroke\", \"prevalent_hyp\", \"diabetes\", \"total_cholesterol\", \"bmi\", \"heart_rate\", \"glucose\", \"pulse_pressure\", \"ten_year_chd\",\"prediction\").toPandas()\n",
    "# Enregistrer les prédictions dans des fichiers CSV\n",
    "rf_predictions_pd.to_csv('random_forest_predictions.csv', index=False)"
   ]
  },
  {
   "cell_type": "code",
   "execution_count": 55,
   "metadata": {},
   "outputs": [
    {
     "data": {
      "text/html": [
       "<div>\n",
       "<style scoped>\n",
       "    .dataframe tbody tr th:only-of-type {\n",
       "        vertical-align: middle;\n",
       "    }\n",
       "\n",
       "    .dataframe tbody tr th {\n",
       "        vertical-align: top;\n",
       "    }\n",
       "\n",
       "    .dataframe thead th {\n",
       "        text-align: right;\n",
       "    }\n",
       "</style>\n",
       "<table border=\"1\" class=\"dataframe\">\n",
       "  <thead>\n",
       "    <tr style=\"text-align: right;\">\n",
       "      <th></th>\n",
       "      <th>age</th>\n",
       "      <th>education</th>\n",
       "      <th>sex</th>\n",
       "      <th>is_smoking</th>\n",
       "      <th>cigs_per_day</th>\n",
       "      <th>bp_meds</th>\n",
       "      <th>prevalent_stroke</th>\n",
       "      <th>prevalent_hyp</th>\n",
       "      <th>diabetes</th>\n",
       "      <th>total_cholesterol</th>\n",
       "      <th>bmi</th>\n",
       "      <th>heart_rate</th>\n",
       "      <th>glucose</th>\n",
       "      <th>pulse_pressure</th>\n",
       "      <th>ten_year_chd</th>\n",
       "      <th>prediction</th>\n",
       "    </tr>\n",
       "  </thead>\n",
       "  <tbody>\n",
       "    <tr>\n",
       "      <th>0</th>\n",
       "      <td>33</td>\n",
       "      <td>2</td>\n",
       "      <td>1</td>\n",
       "      <td>0</td>\n",
       "      <td>0</td>\n",
       "      <td>0</td>\n",
       "      <td>0</td>\n",
       "      <td>1</td>\n",
       "      <td>0</td>\n",
       "      <td>165.000000</td>\n",
       "      <td>26.740000</td>\n",
       "      <td>54.000000</td>\n",
       "      <td>77.000000</td>\n",
       "      <td>46.500000</td>\n",
       "      <td>0</td>\n",
       "      <td>0.0</td>\n",
       "    </tr>\n",
       "    <tr>\n",
       "      <th>1</th>\n",
       "      <td>34</td>\n",
       "      <td>1</td>\n",
       "      <td>0</td>\n",
       "      <td>1</td>\n",
       "      <td>10</td>\n",
       "      <td>0</td>\n",
       "      <td>0</td>\n",
       "      <td>0</td>\n",
       "      <td>0</td>\n",
       "      <td>185.000000</td>\n",
       "      <td>19.680000</td>\n",
       "      <td>75.000000</td>\n",
       "      <td>79.700000</td>\n",
       "      <td>22.500000</td>\n",
       "      <td>0</td>\n",
       "      <td>0.0</td>\n",
       "    </tr>\n",
       "    <tr>\n",
       "      <th>2</th>\n",
       "      <td>34</td>\n",
       "      <td>1</td>\n",
       "      <td>1</td>\n",
       "      <td>1</td>\n",
       "      <td>5</td>\n",
       "      <td>0</td>\n",
       "      <td>0</td>\n",
       "      <td>0</td>\n",
       "      <td>0</td>\n",
       "      <td>185.000000</td>\n",
       "      <td>24.420000</td>\n",
       "      <td>70.000000</td>\n",
       "      <td>115.000000</td>\n",
       "      <td>34.500000</td>\n",
       "      <td>0</td>\n",
       "      <td>0.0</td>\n",
       "    </tr>\n",
       "    <tr>\n",
       "      <th>3</th>\n",
       "      <td>34</td>\n",
       "      <td>1</td>\n",
       "      <td>1</td>\n",
       "      <td>1</td>\n",
       "      <td>10</td>\n",
       "      <td>0</td>\n",
       "      <td>0</td>\n",
       "      <td>0</td>\n",
       "      <td>0</td>\n",
       "      <td>210.000000</td>\n",
       "      <td>24.390000</td>\n",
       "      <td>68.000000</td>\n",
       "      <td>70.700000</td>\n",
       "      <td>35.000000</td>\n",
       "      <td>0</td>\n",
       "      <td>0.0</td>\n",
       "    </tr>\n",
       "    <tr>\n",
       "      <th>4</th>\n",
       "      <td>34</td>\n",
       "      <td>2</td>\n",
       "      <td>0</td>\n",
       "      <td>1</td>\n",
       "      <td>20</td>\n",
       "      <td>0</td>\n",
       "      <td>0</td>\n",
       "      <td>0</td>\n",
       "      <td>0</td>\n",
       "      <td>180.000000</td>\n",
       "      <td>21.510000</td>\n",
       "      <td>91.000000</td>\n",
       "      <td>78.000000</td>\n",
       "      <td>55.000000</td>\n",
       "      <td>0</td>\n",
       "      <td>0.0</td>\n",
       "    </tr>\n",
       "    <tr>\n",
       "      <th>5</th>\n",
       "      <td>34</td>\n",
       "      <td>2</td>\n",
       "      <td>0</td>\n",
       "      <td>1</td>\n",
       "      <td>20</td>\n",
       "      <td>0</td>\n",
       "      <td>0</td>\n",
       "      <td>0</td>\n",
       "      <td>0</td>\n",
       "      <td>220.000000</td>\n",
       "      <td>20.790000</td>\n",
       "      <td>63.000000</td>\n",
       "      <td>86.000000</td>\n",
       "      <td>50.000000</td>\n",
       "      <td>0</td>\n",
       "      <td>0.0</td>\n",
       "    </tr>\n",
       "    <tr>\n",
       "      <th>6</th>\n",
       "      <td>34</td>\n",
       "      <td>2</td>\n",
       "      <td>1</td>\n",
       "      <td>1</td>\n",
       "      <td>25</td>\n",
       "      <td>0</td>\n",
       "      <td>0</td>\n",
       "      <td>0</td>\n",
       "      <td>0</td>\n",
       "      <td>250.000000</td>\n",
       "      <td>29.040000</td>\n",
       "      <td>63.000000</td>\n",
       "      <td>80.000000</td>\n",
       "      <td>42.000000</td>\n",
       "      <td>0</td>\n",
       "      <td>0.0</td>\n",
       "    </tr>\n",
       "    <tr>\n",
       "      <th>7</th>\n",
       "      <td>34</td>\n",
       "      <td>3</td>\n",
       "      <td>1</td>\n",
       "      <td>1</td>\n",
       "      <td>20</td>\n",
       "      <td>0</td>\n",
       "      <td>0</td>\n",
       "      <td>0</td>\n",
       "      <td>0</td>\n",
       "      <td>155.000000</td>\n",
       "      <td>23.510000</td>\n",
       "      <td>85.000000</td>\n",
       "      <td>65.000000</td>\n",
       "      <td>45.000000</td>\n",
       "      <td>0</td>\n",
       "      <td>0.0</td>\n",
       "    </tr>\n",
       "    <tr>\n",
       "      <th>8</th>\n",
       "      <td>35</td>\n",
       "      <td>1</td>\n",
       "      <td>0</td>\n",
       "      <td>0</td>\n",
       "      <td>0</td>\n",
       "      <td>0</td>\n",
       "      <td>0</td>\n",
       "      <td>0</td>\n",
       "      <td>0</td>\n",
       "      <td>170.000000</td>\n",
       "      <td>23.480000</td>\n",
       "      <td>75.000000</td>\n",
       "      <td>83.000000</td>\n",
       "      <td>41.000000</td>\n",
       "      <td>0</td>\n",
       "      <td>0.0</td>\n",
       "    </tr>\n",
       "    <tr>\n",
       "      <th>9</th>\n",
       "      <td>35</td>\n",
       "      <td>1</td>\n",
       "      <td>1</td>\n",
       "      <td>0</td>\n",
       "      <td>0</td>\n",
       "      <td>0</td>\n",
       "      <td>0</td>\n",
       "      <td>0</td>\n",
       "      <td>0</td>\n",
       "      <td>275.000000</td>\n",
       "      <td>34.040000</td>\n",
       "      <td>75.000000</td>\n",
       "      <td>80.000000</td>\n",
       "      <td>53.500000</td>\n",
       "      <td>0</td>\n",
       "      <td>0.0</td>\n",
       "    </tr>\n",
       "    <tr>\n",
       "      <th>10</th>\n",
       "      <td>35</td>\n",
       "      <td>1</td>\n",
       "      <td>1</td>\n",
       "      <td>1</td>\n",
       "      <td>15</td>\n",
       "      <td>0</td>\n",
       "      <td>0</td>\n",
       "      <td>0</td>\n",
       "      <td>0</td>\n",
       "      <td>210.000000</td>\n",
       "      <td>22.390000</td>\n",
       "      <td>57.000000</td>\n",
       "      <td>75.000000</td>\n",
       "      <td>32.000000</td>\n",
       "      <td>0</td>\n",
       "      <td>0.0</td>\n",
       "    </tr>\n",
       "    <tr>\n",
       "      <th>11</th>\n",
       "      <td>35</td>\n",
       "      <td>2</td>\n",
       "      <td>0</td>\n",
       "      <td>0</td>\n",
       "      <td>0</td>\n",
       "      <td>0</td>\n",
       "      <td>0</td>\n",
       "      <td>0</td>\n",
       "      <td>0</td>\n",
       "      <td>208.000000</td>\n",
       "      <td>22.000000</td>\n",
       "      <td>65.000000</td>\n",
       "      <td>81.900000</td>\n",
       "      <td>50.000000</td>\n",
       "      <td>0</td>\n",
       "      <td>0.0</td>\n",
       "    </tr>\n",
       "    <tr>\n",
       "      <th>12</th>\n",
       "      <td>35</td>\n",
       "      <td>2</td>\n",
       "      <td>0</td>\n",
       "      <td>0</td>\n",
       "      <td>0</td>\n",
       "      <td>0</td>\n",
       "      <td>0</td>\n",
       "      <td>0</td>\n",
       "      <td>0</td>\n",
       "      <td>216.000000</td>\n",
       "      <td>25.940000</td>\n",
       "      <td>75.000000</td>\n",
       "      <td>90.000000</td>\n",
       "      <td>62.000000</td>\n",
       "      <td>0</td>\n",
       "      <td>0.0</td>\n",
       "    </tr>\n",
       "    <tr>\n",
       "      <th>13</th>\n",
       "      <td>35</td>\n",
       "      <td>2</td>\n",
       "      <td>0</td>\n",
       "      <td>0</td>\n",
       "      <td>0</td>\n",
       "      <td>0</td>\n",
       "      <td>0</td>\n",
       "      <td>0</td>\n",
       "      <td>0</td>\n",
       "      <td>248.000000</td>\n",
       "      <td>20.640000</td>\n",
       "      <td>90.000000</td>\n",
       "      <td>80.000000</td>\n",
       "      <td>34.000000</td>\n",
       "      <td>0</td>\n",
       "      <td>0.0</td>\n",
       "    </tr>\n",
       "    <tr>\n",
       "      <th>14</th>\n",
       "      <td>35</td>\n",
       "      <td>2</td>\n",
       "      <td>0</td>\n",
       "      <td>1</td>\n",
       "      <td>5</td>\n",
       "      <td>0</td>\n",
       "      <td>0</td>\n",
       "      <td>0</td>\n",
       "      <td>0</td>\n",
       "      <td>165.000000</td>\n",
       "      <td>19.140000</td>\n",
       "      <td>68.000000</td>\n",
       "      <td>70.000000</td>\n",
       "      <td>42.000000</td>\n",
       "      <td>0</td>\n",
       "      <td>0.0</td>\n",
       "    </tr>\n",
       "    <tr>\n",
       "      <th>15</th>\n",
       "      <td>35</td>\n",
       "      <td>2</td>\n",
       "      <td>0</td>\n",
       "      <td>1</td>\n",
       "      <td>20</td>\n",
       "      <td>0</td>\n",
       "      <td>0</td>\n",
       "      <td>0</td>\n",
       "      <td>0</td>\n",
       "      <td>167.904007</td>\n",
       "      <td>16.731694</td>\n",
       "      <td>78.923206</td>\n",
       "      <td>63.153589</td>\n",
       "      <td>28.711185</td>\n",
       "      <td>1</td>\n",
       "      <td>1.0</td>\n",
       "    </tr>\n",
       "    <tr>\n",
       "      <th>16</th>\n",
       "      <td>35</td>\n",
       "      <td>2</td>\n",
       "      <td>0</td>\n",
       "      <td>1</td>\n",
       "      <td>20</td>\n",
       "      <td>0</td>\n",
       "      <td>0</td>\n",
       "      <td>0</td>\n",
       "      <td>0</td>\n",
       "      <td>168.000000</td>\n",
       "      <td>16.710000</td>\n",
       "      <td>79.000000</td>\n",
       "      <td>63.000000</td>\n",
       "      <td>28.500000</td>\n",
       "      <td>1</td>\n",
       "      <td>1.0</td>\n",
       "    </tr>\n",
       "    <tr>\n",
       "      <th>17</th>\n",
       "      <td>35</td>\n",
       "      <td>2</td>\n",
       "      <td>1</td>\n",
       "      <td>0</td>\n",
       "      <td>0</td>\n",
       "      <td>0</td>\n",
       "      <td>0</td>\n",
       "      <td>1</td>\n",
       "      <td>0</td>\n",
       "      <td>245.000000</td>\n",
       "      <td>26.230000</td>\n",
       "      <td>110.000000</td>\n",
       "      <td>82.800000</td>\n",
       "      <td>63.500000</td>\n",
       "      <td>0</td>\n",
       "      <td>0.0</td>\n",
       "    </tr>\n",
       "    <tr>\n",
       "      <th>18</th>\n",
       "      <td>35</td>\n",
       "      <td>2</td>\n",
       "      <td>1</td>\n",
       "      <td>1</td>\n",
       "      <td>20</td>\n",
       "      <td>0</td>\n",
       "      <td>0</td>\n",
       "      <td>0</td>\n",
       "      <td>0</td>\n",
       "      <td>223.000000</td>\n",
       "      <td>19.990000</td>\n",
       "      <td>80.000000</td>\n",
       "      <td>67.000000</td>\n",
       "      <td>46.000000</td>\n",
       "      <td>0</td>\n",
       "      <td>0.0</td>\n",
       "    </tr>\n",
       "    <tr>\n",
       "      <th>19</th>\n",
       "      <td>35</td>\n",
       "      <td>2</td>\n",
       "      <td>1</td>\n",
       "      <td>1</td>\n",
       "      <td>20</td>\n",
       "      <td>0</td>\n",
       "      <td>0</td>\n",
       "      <td>0</td>\n",
       "      <td>0</td>\n",
       "      <td>227.000000</td>\n",
       "      <td>29.270000</td>\n",
       "      <td>70.000000</td>\n",
       "      <td>79.000000</td>\n",
       "      <td>33.000000</td>\n",
       "      <td>0</td>\n",
       "      <td>0.0</td>\n",
       "    </tr>\n",
       "  </tbody>\n",
       "</table>\n",
       "</div>"
      ],
      "text/plain": [
       "    age  education  sex  is_smoking  cigs_per_day  bp_meds  prevalent_stroke  \\\n",
       "0    33          2    1           0             0        0                 0   \n",
       "1    34          1    0           1            10        0                 0   \n",
       "2    34          1    1           1             5        0                 0   \n",
       "3    34          1    1           1            10        0                 0   \n",
       "4    34          2    0           1            20        0                 0   \n",
       "5    34          2    0           1            20        0                 0   \n",
       "6    34          2    1           1            25        0                 0   \n",
       "7    34          3    1           1            20        0                 0   \n",
       "8    35          1    0           0             0        0                 0   \n",
       "9    35          1    1           0             0        0                 0   \n",
       "10   35          1    1           1            15        0                 0   \n",
       "11   35          2    0           0             0        0                 0   \n",
       "12   35          2    0           0             0        0                 0   \n",
       "13   35          2    0           0             0        0                 0   \n",
       "14   35          2    0           1             5        0                 0   \n",
       "15   35          2    0           1            20        0                 0   \n",
       "16   35          2    0           1            20        0                 0   \n",
       "17   35          2    1           0             0        0                 0   \n",
       "18   35          2    1           1            20        0                 0   \n",
       "19   35          2    1           1            20        0                 0   \n",
       "\n",
       "    prevalent_hyp  diabetes  total_cholesterol        bmi  heart_rate  \\\n",
       "0               1         0         165.000000  26.740000   54.000000   \n",
       "1               0         0         185.000000  19.680000   75.000000   \n",
       "2               0         0         185.000000  24.420000   70.000000   \n",
       "3               0         0         210.000000  24.390000   68.000000   \n",
       "4               0         0         180.000000  21.510000   91.000000   \n",
       "5               0         0         220.000000  20.790000   63.000000   \n",
       "6               0         0         250.000000  29.040000   63.000000   \n",
       "7               0         0         155.000000  23.510000   85.000000   \n",
       "8               0         0         170.000000  23.480000   75.000000   \n",
       "9               0         0         275.000000  34.040000   75.000000   \n",
       "10              0         0         210.000000  22.390000   57.000000   \n",
       "11              0         0         208.000000  22.000000   65.000000   \n",
       "12              0         0         216.000000  25.940000   75.000000   \n",
       "13              0         0         248.000000  20.640000   90.000000   \n",
       "14              0         0         165.000000  19.140000   68.000000   \n",
       "15              0         0         167.904007  16.731694   78.923206   \n",
       "16              0         0         168.000000  16.710000   79.000000   \n",
       "17              1         0         245.000000  26.230000  110.000000   \n",
       "18              0         0         223.000000  19.990000   80.000000   \n",
       "19              0         0         227.000000  29.270000   70.000000   \n",
       "\n",
       "       glucose  pulse_pressure  ten_year_chd  prediction  \n",
       "0    77.000000       46.500000             0         0.0  \n",
       "1    79.700000       22.500000             0         0.0  \n",
       "2   115.000000       34.500000             0         0.0  \n",
       "3    70.700000       35.000000             0         0.0  \n",
       "4    78.000000       55.000000             0         0.0  \n",
       "5    86.000000       50.000000             0         0.0  \n",
       "6    80.000000       42.000000             0         0.0  \n",
       "7    65.000000       45.000000             0         0.0  \n",
       "8    83.000000       41.000000             0         0.0  \n",
       "9    80.000000       53.500000             0         0.0  \n",
       "10   75.000000       32.000000             0         0.0  \n",
       "11   81.900000       50.000000             0         0.0  \n",
       "12   90.000000       62.000000             0         0.0  \n",
       "13   80.000000       34.000000             0         0.0  \n",
       "14   70.000000       42.000000             0         0.0  \n",
       "15   63.153589       28.711185             1         1.0  \n",
       "16   63.000000       28.500000             1         1.0  \n",
       "17   82.800000       63.500000             0         0.0  \n",
       "18   67.000000       46.000000             0         0.0  \n",
       "19   79.000000       33.000000             0         0.0  "
      ]
     },
     "execution_count": 55,
     "metadata": {},
     "output_type": "execute_result"
    }
   ],
   "source": [
    "rf_predictions_pd.head(20)"
   ]
  }
 ],
 "metadata": {
  "kernelspec": {
   "display_name": "Python 3",
   "language": "python",
   "name": "python3"
  },
  "language_info": {
   "codemirror_mode": {
    "name": "ipython",
    "version": 3
   },
   "file_extension": ".py",
   "mimetype": "text/x-python",
   "name": "python",
   "nbconvert_exporter": "python",
   "pygments_lexer": "ipython3",
   "version": "3.12.0"
  }
 },
 "nbformat": 4,
 "nbformat_minor": 2
}
